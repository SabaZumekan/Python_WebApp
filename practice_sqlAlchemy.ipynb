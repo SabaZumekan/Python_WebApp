{
 "cells": [
  {
   "cell_type": "code",
   "execution_count": 11,
   "metadata": {},
   "outputs": [],
   "source": [
    "from sqlalchemy import create_engine\n",
    "from sqlalchemy.orm import Session\n",
    "from test_model import Person\n",
    "from test_model import Human"
   ]
  },
  {
   "cell_type": "code",
   "execution_count": 12,
   "metadata": {},
   "outputs": [],
   "source": [
    "engine = create_engine('sqlite:///test_db',echo=True)\n",
    "session = Session(engine)"
   ]
  },
  {
   "cell_type": "code",
   "execution_count": 13,
   "metadata": {},
   "outputs": [
    {
     "name": "stdout",
     "output_type": "stream",
     "text": [
      "2022-06-25 17:42:59,238 INFO sqlalchemy.engine.Engine BEGIN (implicit)\n",
      "2022-06-25 17:42:59,240 INFO sqlalchemy.engine.Engine SELECT person.id AS person_id, person.name AS person_name, person.size AS person_size \n",
      "FROM person\n",
      "2022-06-25 17:42:59,240 INFO sqlalchemy.engine.Engine [generated in 0.00075s] ()\n",
      "2022-06-25 17:42:59,242 INFO sqlalchemy.engine.Engine SELECT human.id AS human_id, human.name AS human_name, human.height AS human_height, human.weight AS human_weight \n",
      "FROM human\n",
      "2022-06-25 17:42:59,243 INFO sqlalchemy.engine.Engine [generated in 0.00045s] ()\n"
     ]
    }
   ],
   "source": [
    "persons = session.query(Person).all()\n",
    "humans = session.query(Human).all()"
   ]
  },
  {
   "cell_type": "code",
   "execution_count": 14,
   "metadata": {},
   "outputs": [
    {
     "name": "stdout",
     "output_type": "stream",
     "text": [
      "2022-06-25 17:42:59,350 INFO sqlalchemy.engine.Engine SELECT person.id AS person_id, person.name AS person_name, person.size AS person_size, human.id AS human_id, human.name AS human_name, human.height AS human_height, human.weight AS human_weight \n",
      "FROM person JOIN human ON person.id = human.id\n",
      "2022-06-25 17:42:59,351 INFO sqlalchemy.engine.Engine [generated in 0.00117s] ()\n"
     ]
    }
   ],
   "source": [
    "in_jo = session.query(Person, Human).join(Human,Person.id == Human.id).all()"
   ]
  },
  {
   "cell_type": "code",
   "execution_count": 15,
   "metadata": {},
   "outputs": [
    {
     "name": "stdout",
     "output_type": "stream",
     "text": [
      "2022-06-25 17:42:59,477 INFO sqlalchemy.engine.Engine COMMIT\n"
     ]
    }
   ],
   "source": [
    "session.commit()"
   ]
  },
  {
   "cell_type": "code",
   "execution_count": 17,
   "metadata": {},
   "outputs": [
    {
     "name": "stdout",
     "output_type": "stream",
     "text": [
      "2022-06-25 17:44:04,634 INFO sqlalchemy.engine.Engine BEGIN (implicit)\n",
      "2022-06-25 17:44:04,636 INFO sqlalchemy.engine.Engine SELECT person.id AS person_id, person.name AS person_name, person.size AS person_size \n",
      "FROM person \n",
      "WHERE person.id = ?\n",
      "2022-06-25 17:44:04,637 INFO sqlalchemy.engine.Engine [generated in 0.00084s] (1,)\n",
      "1 a_name\n",
      "2022-06-25 17:44:04,640 INFO sqlalchemy.engine.Engine SELECT person.id AS person_id, person.name AS person_name, person.size AS person_size \n",
      "FROM person \n",
      "WHERE person.id = ?\n",
      "2022-06-25 17:44:04,640 INFO sqlalchemy.engine.Engine [cached since 0.004405s ago] (2,)\n",
      "2 b_name\n",
      "2022-06-25 17:44:04,642 INFO sqlalchemy.engine.Engine SELECT person.id AS person_id, person.name AS person_name, person.size AS person_size \n",
      "FROM person \n",
      "WHERE person.id = ?\n",
      "2022-06-25 17:44:04,643 INFO sqlalchemy.engine.Engine [cached since 0.006796s ago] (3,)\n",
      "3 c_update\n"
     ]
    }
   ],
   "source": [
    "for result in in_jo:\n",
    "    print(result.Person.id, result.Person.name)"
   ]
  }
 ],
 "metadata": {
  "interpreter": {
   "hash": "50f924bc883a09db1276cb08c605c91ac67fdd49531ef706b81b28bb3d8c9cb0"
  },
  "kernelspec": {
   "display_name": "Python 3.8.10 ('venv': venv)",
   "language": "python",
   "name": "python3"
  },
  "language_info": {
   "codemirror_mode": {
    "name": "ipython",
    "version": 3
   },
   "file_extension": ".py",
   "mimetype": "text/x-python",
   "name": "python",
   "nbconvert_exporter": "python",
   "pygments_lexer": "ipython3",
   "version": "3.8.10"
  },
  "orig_nbformat": 4
 },
 "nbformat": 4,
 "nbformat_minor": 2
}
