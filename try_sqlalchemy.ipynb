{
 "cells": [
  {
   "cell_type": "code",
   "execution_count": null,
   "metadata": {},
   "outputs": [],
   "source": [
    "from sqlalchemy import create_engine\n",
    "from sqlalchemy.orm import Session\n",
    "from test_model import Person"
   ]
  },
  {
   "cell_type": "code",
   "execution_count": null,
   "metadata": {},
   "outputs": [],
   "source": [
    "engine = create_engine('sqlite:///test_db',echo=True)\n",
    "session = Session(engine)"
   ]
  },
  {
   "cell_type": "code",
   "execution_count": null,
   "metadata": {},
   "outputs": [],
   "source": [
    "persons = session.query(Person).all()"
   ]
  },
  {
   "cell_type": "code",
   "execution_count": null,
   "metadata": {},
   "outputs": [],
   "source": [
    "for person in persons:\n",
    "    print(f'id:{person.id} name:{person.name} size:{person.size}')"
   ]
  },
  {
   "cell_type": "code",
   "execution_count": null,
   "metadata": {},
   "outputs": [],
   "source": [
    "new_person = Person(id=4,name='from_model',size=100)\n",
    "session.add(new_person)"
   ]
  },
  {
   "cell_type": "code",
   "execution_count": null,
   "metadata": {},
   "outputs": [],
   "source": [
    "session.commit()"
   ]
  },
  {
   "cell_type": "code",
   "execution_count": null,
   "metadata": {},
   "outputs": [],
   "source": [
    "persons = session.query(Person).all()\n",
    "for person in persons:\n",
    "    print(person.__dict__)"
   ]
  },
  {
   "cell_type": "code",
   "execution_count": null,
   "metadata": {},
   "outputs": [],
   "source": [
    "person4 = session.query(Person).filter(Person.id==4).first()"
   ]
  },
  {
   "cell_type": "code",
   "execution_count": null,
   "metadata": {},
   "outputs": [],
   "source": [
    "person4.size = 2.236"
   ]
  },
  {
   "cell_type": "code",
   "execution_count": null,
   "metadata": {},
   "outputs": [],
   "source": [
    "session.commit()"
   ]
  },
  {
   "cell_type": "code",
   "execution_count": null,
   "metadata": {},
   "outputs": [],
   "source": [
    "session.query(Person).filter(Person.size>10).delete()"
   ]
  },
  {
   "cell_type": "code",
   "execution_count": null,
   "metadata": {},
   "outputs": [],
   "source": [
    "session.commit()"
   ]
  },
  {
   "cell_type": "code",
   "execution_count": null,
   "metadata": {},
   "outputs": [],
   "source": [
    "result_list = session.execute('SELECT * FROM person WHERE id = :id', {\"id\":4})"
   ]
  },
  {
   "cell_type": "code",
   "execution_count": null,
   "metadata": {},
   "outputs": [],
   "source": [
    "for result in result_list:\n",
    "    print(result)\n"
   ]
  },
  {
   "cell_type": "code",
   "execution_count": null,
   "metadata": {},
   "outputs": [],
   "source": [
    "from test_model import Human"
   ]
  },
  {
   "cell_type": "code",
   "execution_count": 17,
   "metadata": {},
   "outputs": [],
   "source": [
    "engine = create_engine('sqlite:///test_db',echo=True)\n",
    "session = Session(engine)"
   ]
  },
  {
   "cell_type": "code",
   "execution_count": 18,
   "metadata": {},
   "outputs": [
    {
     "name": "stdout",
     "output_type": "stream",
     "text": [
      "2022-06-25 15:01:31,009 INFO sqlalchemy.engine.Engine BEGIN (implicit)\n",
      "2022-06-25 15:01:31,012 INFO sqlalchemy.engine.Engine SELECT human.id AS human_id, human.name AS human_name, human.height AS human_height, human.weight AS human_weight \n",
      "FROM human\n",
      "2022-06-25 15:01:31,012 INFO sqlalchemy.engine.Engine [generated in 0.00068s] ()\n"
     ]
    }
   ],
   "source": [
    "humans = session.query(Human).all()"
   ]
  },
  {
   "cell_type": "code",
   "execution_count": 19,
   "metadata": {},
   "outputs": [
    {
     "name": "stdout",
     "output_type": "stream",
     "text": [
      "id:1 name:a height:1.7 weight:70.0\n",
      "id:2 name:b height:1.8 weight:75.0\n",
      "id:3 name:c height:1.9 weight:80.0\n"
     ]
    }
   ],
   "source": [
    "for human in humans:\n",
    "    print (f'id:{human.id} name:{human.name} height:{human.height} weight:{human.weight}')"
   ]
  },
  {
   "cell_type": "code",
   "execution_count": 20,
   "metadata": {},
   "outputs": [],
   "source": [
    "param_human = Human(id=7, name=\"Lucky\", height=177, weight=77)\n",
    "session.add(param_human)"
   ]
  },
  {
   "cell_type": "code",
   "execution_count": 21,
   "metadata": {},
   "outputs": [
    {
     "name": "stdout",
     "output_type": "stream",
     "text": [
      "2022-06-25 15:05:44,069 INFO sqlalchemy.engine.Engine INSERT INTO human (id, name, height, weight) VALUES (?, ?, ?, ?)\n",
      "2022-06-25 15:05:44,071 INFO sqlalchemy.engine.Engine [generated in 0.00221s] (7, 'Lucky', 177.0, 77.0)\n",
      "2022-06-25 15:05:44,073 INFO sqlalchemy.engine.Engine COMMIT\n"
     ]
    }
   ],
   "source": [
    "session.commit()"
   ]
  },
  {
   "cell_type": "code",
   "execution_count": 34,
   "metadata": {},
   "outputs": [
    {
     "name": "stdout",
     "output_type": "stream",
     "text": [
      "2022-06-25 15:15:33,727 INFO sqlalchemy.engine.Engine BEGIN (implicit)\n",
      "2022-06-25 15:15:33,728 INFO sqlalchemy.engine.Engine SELECT * FROM human\n",
      "2022-06-25 15:15:33,729 INFO sqlalchemy.engine.Engine [cached since 498.6s ago] ()\n",
      "(1, 'a', 1.7, 70.0)\n",
      "(2, 'b', 1.8, 75.0)\n",
      "(3, 'c', 1.9, 80.0)\n",
      "(7, 'Lucky', 177.0, 77.0)\n"
     ]
    }
   ],
   "source": [
    "list_human = session.execute('SELECT * FROM human')\n",
    "for result in list_human:\n",
    "    print (result)"
   ]
  },
  {
   "cell_type": "code",
   "execution_count": 36,
   "metadata": {},
   "outputs": [
    {
     "name": "stdout",
     "output_type": "stream",
     "text": [
      "2022-06-25 15:17:31,123 INFO sqlalchemy.engine.Engine BEGIN (implicit)\n",
      "2022-06-25 15:17:31,124 INFO sqlalchemy.engine.Engine SELECT human.id AS human_id, human.name AS human_name, human.height AS human_height, human.weight AS human_weight \n",
      "FROM human \n",
      "WHERE human.height = ?\n",
      " LIMIT ? OFFSET ?\n",
      "2022-06-25 15:17:31,125 INFO sqlalchemy.engine.Engine [generated in 0.00100s] (1.9, 1, 0)\n",
      "2022-06-25 15:17:31,127 INFO sqlalchemy.engine.Engine UPDATE human SET height=? WHERE human.id = ?\n",
      "2022-06-25 15:17:31,128 INFO sqlalchemy.engine.Engine [generated in 0.00071s] (2.0, 3)\n",
      "2022-06-25 15:17:31,129 INFO sqlalchemy.engine.Engine COMMIT\n"
     ]
    }
   ],
   "source": [
    "person3 = session.query(Human).filter(Human.height ==1.9).first()\n",
    "person3.height = 2.0\n",
    "session.commit()\n"
   ]
  },
  {
   "cell_type": "code",
   "execution_count": 37,
   "metadata": {},
   "outputs": [
    {
     "name": "stdout",
     "output_type": "stream",
     "text": [
      "2022-06-25 15:17:44,759 INFO sqlalchemy.engine.Engine BEGIN (implicit)\n",
      "2022-06-25 15:17:44,760 INFO sqlalchemy.engine.Engine SELECT * FROM human\n",
      "2022-06-25 15:17:44,761 INFO sqlalchemy.engine.Engine [cached since 629.6s ago] ()\n",
      "(1, 'a', 1.7, 70.0)\n",
      "(2, 'b', 1.8, 75.0)\n",
      "(3, 'c', 2.0, 80.0)\n",
      "(7, 'Lucky', 177.0, 77.0)\n"
     ]
    }
   ],
   "source": [
    "list_human = session.execute('SELECT * FROM human')\n",
    "for result in list_human:\n",
    "    print (result)"
   ]
  },
  {
   "cell_type": "code",
   "execution_count": 38,
   "metadata": {},
   "outputs": [
    {
     "name": "stdout",
     "output_type": "stream",
     "text": [
      "2022-06-25 15:19:18,160 INFO sqlalchemy.engine.Engine DELETE FROM human WHERE human.weight = ?\n",
      "2022-06-25 15:19:18,162 INFO sqlalchemy.engine.Engine [generated in 0.00209s] (77.0,)\n",
      "2022-06-25 15:19:18,164 INFO sqlalchemy.engine.Engine COMMIT\n"
     ]
    }
   ],
   "source": [
    "session.query(Human).filter(Human.weight == 77.0).delete()\n",
    "session.commit()\n"
   ]
  },
  {
   "cell_type": "code",
   "execution_count": 39,
   "metadata": {},
   "outputs": [
    {
     "name": "stdout",
     "output_type": "stream",
     "text": [
      "2022-06-25 15:19:24,332 INFO sqlalchemy.engine.Engine BEGIN (implicit)\n",
      "2022-06-25 15:19:24,334 INFO sqlalchemy.engine.Engine SELECT * FROM human\n",
      "2022-06-25 15:19:24,335 INFO sqlalchemy.engine.Engine [cached since 729.2s ago] ()\n",
      "(1, 'a', 1.7, 70.0)\n",
      "(2, 'b', 1.8, 75.0)\n",
      "(3, 'c', 2.0, 80.0)\n"
     ]
    }
   ],
   "source": [
    "list_human = session.execute('SELECT * FROM human')\n",
    "for result in list_human:\n",
    "    print (result)"
   ]
  },
  {
   "cell_type": "code",
   "execution_count": 40,
   "metadata": {},
   "outputs": [
    {
     "name": "stdout",
     "output_type": "stream",
     "text": [
      "2022-06-25 15:20:17,768 INFO sqlalchemy.engine.Engine ROLLBACK\n"
     ]
    }
   ],
   "source": [
    "session.close()"
   ]
  }
 ],
 "metadata": {
  "interpreter": {
   "hash": "50f924bc883a09db1276cb08c605c91ac67fdd49531ef706b81b28bb3d8c9cb0"
  },
  "kernelspec": {
   "display_name": "Python 3.8.10 ('venv': venv)",
   "language": "python",
   "name": "python3"
  },
  "language_info": {
   "codemirror_mode": {
    "name": "ipython",
    "version": 3
   },
   "file_extension": ".py",
   "mimetype": "text/x-python",
   "name": "python",
   "nbconvert_exporter": "python",
   "pygments_lexer": "ipython3",
   "version": "3.8.10"
  },
  "orig_nbformat": 4
 },
 "nbformat": 4,
 "nbformat_minor": 2
}
