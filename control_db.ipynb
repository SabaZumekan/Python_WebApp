{
 "cells": [
  {
   "cell_type": "code",
   "execution_count": 35,
   "metadata": {},
   "outputs": [],
   "source": [
    "import sqlite3"
   ]
  },
  {
   "cell_type": "code",
   "execution_count": 36,
   "metadata": {},
   "outputs": [],
   "source": [
    "con = sqlite3.connect('./test_db')"
   ]
  },
  {
   "cell_type": "code",
   "execution_count": 37,
   "metadata": {},
   "outputs": [
    {
     "name": "stdout",
     "output_type": "stream",
     "text": [
      "(1, 'name_a', 10.5)\n",
      "1\n",
      "1\n",
      "name_a\n",
      "10.5\n",
      "name_a\n",
      "1\n",
      "name_a\n",
      "10.5\n",
      "10.5\n",
      "1\n",
      "name_a\n",
      "10.5\n",
      "(3, 'c_update', 3.14)\n",
      "3\n",
      "3\n",
      "c_update\n",
      "3.14\n",
      "c_update\n",
      "3\n",
      "c_update\n",
      "3.14\n",
      "3.14\n",
      "3\n",
      "c_update\n",
      "3.14\n",
      "(100, 'name_z', 99.9)\n",
      "100\n",
      "100\n",
      "name_z\n",
      "99.9\n",
      "name_z\n",
      "100\n",
      "name_z\n",
      "99.9\n",
      "99.9\n",
      "100\n",
      "name_z\n",
      "99.9\n"
     ]
    }
   ],
   "source": [
    "cur = con.cursor()\n",
    "for row in cur.execute('SELECT * FROM person'):\n",
    "    print(row)\n",
    "    for collum in row:\n",
    "        print(collum)\n",
    "        for column in row:\n",
    "            print(column)"
   ]
  },
  {
   "cell_type": "code",
   "execution_count": 38,
   "metadata": {},
   "outputs": [
    {
     "ename": "OperationalError",
     "evalue": "database is locked",
     "output_type": "error",
     "traceback": [
      "\u001b[0;31m---------------------------------------------------------------------------\u001b[0m",
      "\u001b[0;31mOperationalError\u001b[0m                          Traceback (most recent call last)",
      "\u001b[1;32m/home/cre/Python_WebApp/control_db.ipynb Cell 4'\u001b[0m in \u001b[0;36m<cell line: 3>\u001b[0;34m()\u001b[0m\n\u001b[1;32m      <a href='vscode-notebook-cell://wsl%2Bubuntu-20.04/home/cre/Python_WebApp/control_db.ipynb#ch0000004vscode-remote?line=0'>1</a>\u001b[0m insert_sql \u001b[39m=\u001b[39m \u001b[39m'\u001b[39m\u001b[39mINSERT INTO person VALUES(?,?,?)\u001b[39m\u001b[39m'\u001b[39m\n\u001b[1;32m      <a href='vscode-notebook-cell://wsl%2Bubuntu-20.04/home/cre/Python_WebApp/control_db.ipynb#ch0000004vscode-remote?line=1'>2</a>\u001b[0m insert_param \u001b[39m=\u001b[39m (\u001b[39m100\u001b[39m,\u001b[39m'\u001b[39m\u001b[39mname_z\u001b[39m\u001b[39m'\u001b[39m,\u001b[39m99.9\u001b[39m)\n\u001b[0;32m----> <a href='vscode-notebook-cell://wsl%2Bubuntu-20.04/home/cre/Python_WebApp/control_db.ipynb#ch0000004vscode-remote?line=2'>3</a>\u001b[0m cur\u001b[39m.\u001b[39;49mexecute(insert_sql,insert_param)\n",
      "\u001b[0;31mOperationalError\u001b[0m: database is locked"
     ]
    }
   ],
   "source": [
    "insert_sql = 'INSERT INTO person VALUES(?,?,?)'\n",
    "insert_param = (100,'name_z',99.9)\n",
    "cur.execute(insert_sql,insert_param)"
   ]
  },
  {
   "cell_type": "code",
   "execution_count": 39,
   "metadata": {},
   "outputs": [],
   "source": [
    "con.commit()"
   ]
  },
  {
   "cell_type": "code",
   "execution_count": 40,
   "metadata": {},
   "outputs": [
    {
     "name": "stdout",
     "output_type": "stream",
     "text": [
      "[(1, 'name_a', 10.5), (3, 'c_update', 3.14), (100, 'name_z', 99.9)]\n"
     ]
    }
   ],
   "source": [
    "cur.execute('SELECT * FROM person')\n",
    "print(cur.fetchall())"
   ]
  },
  {
   "cell_type": "code",
   "execution_count": 41,
   "metadata": {},
   "outputs": [],
   "source": [
    "con = sqlite3.connect('./test_db')"
   ]
  },
  {
   "cell_type": "code",
   "execution_count": 42,
   "metadata": {},
   "outputs": [
    {
     "ename": "OperationalError",
     "evalue": "database is locked",
     "output_type": "error",
     "traceback": [
      "\u001b[0;31m---------------------------------------------------------------------------\u001b[0m",
      "\u001b[0;31mOperationalError\u001b[0m                          Traceback (most recent call last)",
      "\u001b[1;32m/home/cre/Python_WebApp/control_db.ipynb Cell 8'\u001b[0m in \u001b[0;36m<cell line: 3>\u001b[0;34m()\u001b[0m\n\u001b[1;32m      <a href='vscode-notebook-cell://wsl%2Bubuntu-20.04/home/cre/Python_WebApp/control_db.ipynb#ch0000009vscode-remote?line=0'>1</a>\u001b[0m sql_update \u001b[39m=\u001b[39m \u001b[39m'\u001b[39m\u001b[39mUPDATE human SET name = ? WHERE id = ?\u001b[39m\u001b[39m'\u001b[39m\n\u001b[1;32m      <a href='vscode-notebook-cell://wsl%2Bubuntu-20.04/home/cre/Python_WebApp/control_db.ipynb#ch0000009vscode-remote?line=1'>2</a>\u001b[0m update_param \u001b[39m=\u001b[39m (\u001b[39m'\u001b[39m\u001b[39mchange_name\u001b[39m\u001b[39m'\u001b[39m,\u001b[39m1\u001b[39m)\n\u001b[0;32m----> <a href='vscode-notebook-cell://wsl%2Bubuntu-20.04/home/cre/Python_WebApp/control_db.ipynb#ch0000009vscode-remote?line=2'>3</a>\u001b[0m cur\u001b[39m.\u001b[39;49mexecute(sql_update,update_param)\n",
      "\u001b[0;31mOperationalError\u001b[0m: database is locked"
     ]
    }
   ],
   "source": [
    "sql_update = 'UPDATE human SET name = ? WHERE id = ?'\n",
    "update_param = ('change_name',1)\n",
    "cur.execute(sql_update,update_param)"
   ]
  },
  {
   "cell_type": "code",
   "execution_count": 43,
   "metadata": {},
   "outputs": [
    {
     "name": "stdout",
     "output_type": "stream",
     "text": [
      "[(1, 'name_a', 10.5), (3, 'c_update', 3.14), (100, 'name_z', 99.9)]\n"
     ]
    }
   ],
   "source": [
    "cur.execute('SELECT * FROM person')\n",
    "print(cur.fetchall())"
   ]
  },
  {
   "cell_type": "code",
   "execution_count": 44,
   "metadata": {},
   "outputs": [
    {
     "ename": "OperationalError",
     "evalue": "database is locked",
     "output_type": "error",
     "traceback": [
      "\u001b[0;31m---------------------------------------------------------------------------\u001b[0m",
      "\u001b[0;31mOperationalError\u001b[0m                          Traceback (most recent call last)",
      "\u001b[1;32m/home/cre/Python_WebApp/control_db.ipynb Cell 10'\u001b[0m in \u001b[0;36m<cell line: 3>\u001b[0;34m()\u001b[0m\n\u001b[1;32m      <a href='vscode-notebook-cell://wsl%2Bubuntu-20.04/home/cre/Python_WebApp/control_db.ipynb#ch0000011vscode-remote?line=0'>1</a>\u001b[0m sql_update \u001b[39m=\u001b[39m \u001b[39m'\u001b[39m\u001b[39mUPDATE person SET name = ? WHERE id = ?\u001b[39m\u001b[39m'\u001b[39m\n\u001b[1;32m      <a href='vscode-notebook-cell://wsl%2Bubuntu-20.04/home/cre/Python_WebApp/control_db.ipynb#ch0000011vscode-remote?line=1'>2</a>\u001b[0m update_param \u001b[39m=\u001b[39m (\u001b[39m'\u001b[39m\u001b[39mchange_name\u001b[39m\u001b[39m'\u001b[39m,\u001b[39m1\u001b[39m)\n\u001b[0;32m----> <a href='vscode-notebook-cell://wsl%2Bubuntu-20.04/home/cre/Python_WebApp/control_db.ipynb#ch0000011vscode-remote?line=2'>3</a>\u001b[0m cur\u001b[39m.\u001b[39;49mexecute(sql_update,update_param)\n",
      "\u001b[0;31mOperationalError\u001b[0m: database is locked"
     ]
    }
   ],
   "source": [
    "sql_update = 'UPDATE person SET name = ? WHERE id = ?'\n",
    "update_param = ('change_name',1)\n",
    "cur.execute(sql_update,update_param)"
   ]
  },
  {
   "cell_type": "code",
   "execution_count": 45,
   "metadata": {},
   "outputs": [
    {
     "name": "stdout",
     "output_type": "stream",
     "text": [
      "[(1, 'name_a', 10.5), (3, 'c_update', 3.14), (100, 'name_z', 99.9)]\n"
     ]
    }
   ],
   "source": [
    "cur.execute('SELECT * FROM person')\n",
    "print(cur.fetchall())"
   ]
  },
  {
   "cell_type": "code",
   "execution_count": 46,
   "metadata": {},
   "outputs": [
    {
     "ename": "OperationalError",
     "evalue": "database is locked",
     "output_type": "error",
     "traceback": [
      "\u001b[0;31m---------------------------------------------------------------------------\u001b[0m",
      "\u001b[0;31mOperationalError\u001b[0m                          Traceback (most recent call last)",
      "\u001b[1;32m/home/cre/Python_WebApp/control_db.ipynb Cell 12'\u001b[0m in \u001b[0;36m<cell line: 3>\u001b[0;34m()\u001b[0m\n\u001b[1;32m      <a href='vscode-notebook-cell://wsl%2Bubuntu-20.04/home/cre/Python_WebApp/control_db.ipynb#ch0000014vscode-remote?line=0'>1</a>\u001b[0m sql_delete \u001b[39m=\u001b[39m \u001b[39m'\u001b[39m\u001b[39mDELETE FROM person WHERE id = ?\u001b[39m\u001b[39m'\u001b[39m\n\u001b[1;32m      <a href='vscode-notebook-cell://wsl%2Bubuntu-20.04/home/cre/Python_WebApp/control_db.ipynb#ch0000014vscode-remote?line=1'>2</a>\u001b[0m delete_param \u001b[39m=\u001b[39m (\u001b[39m100\u001b[39m,)\n\u001b[0;32m----> <a href='vscode-notebook-cell://wsl%2Bubuntu-20.04/home/cre/Python_WebApp/control_db.ipynb#ch0000014vscode-remote?line=2'>3</a>\u001b[0m cur\u001b[39m.\u001b[39;49mexecute(sql_delete,delete_param)\n",
      "\u001b[0;31mOperationalError\u001b[0m: database is locked"
     ]
    }
   ],
   "source": [
    "sql_delete = 'DELETE FROM person WHERE id = ?'\n",
    "delete_param = (100,)\n",
    "cur.execute(sql_delete,delete_param)"
   ]
  },
  {
   "cell_type": "code",
   "execution_count": 47,
   "metadata": {},
   "outputs": [
    {
     "name": "stdout",
     "output_type": "stream",
     "text": [
      "[(1, 'name_a', 10.5), (3, 'c_update', 3.14), (100, 'name_z', 99.9)]\n"
     ]
    }
   ],
   "source": [
    "cur.execute('SELECT * FROM person')\n",
    "print(cur.fetchall())"
   ]
  },
  {
   "cell_type": "code",
   "execution_count": 48,
   "metadata": {},
   "outputs": [],
   "source": [
    "con.close()"
   ]
  }
 ],
 "metadata": {
  "interpreter": {
   "hash": "50f924bc883a09db1276cb08c605c91ac67fdd49531ef706b81b28bb3d8c9cb0"
  },
  "kernelspec": {
   "display_name": "Python 3.8.10 ('venv': venv)",
   "language": "python",
   "name": "python3"
  },
  "language_info": {
   "codemirror_mode": {
    "name": "ipython",
    "version": 3
   },
   "file_extension": ".py",
   "mimetype": "text/x-python",
   "name": "python",
   "nbconvert_exporter": "python",
   "pygments_lexer": "ipython3",
   "version": "3.8.10"
  },
  "orig_nbformat": 4
 },
 "nbformat": 4,
 "nbformat_minor": 2
}
