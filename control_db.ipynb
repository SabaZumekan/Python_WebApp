{
 "cells": [
  {
   "cell_type": "code",
   "execution_count": 1,
   "metadata": {},
   "outputs": [],
   "source": [
    "import sqlite3"
   ]
  },
  {
   "cell_type": "code",
   "execution_count": 2,
   "metadata": {},
   "outputs": [],
   "source": [
    "con = sqlite3.connect('./test_db')"
   ]
  },
  {
   "cell_type": "code",
   "execution_count": 3,
   "metadata": {},
   "outputs": [
    {
     "name": "stdout",
     "output_type": "stream",
     "text": [
      "(1, 'name_a', 10.5)\n",
      "1\n",
      "1\n",
      "name_a\n",
      "10.5\n",
      "name_a\n",
      "1\n",
      "name_a\n",
      "10.5\n",
      "10.5\n",
      "1\n",
      "name_a\n",
      "10.5\n",
      "(3, 'c_update', 3.14)\n",
      "3\n",
      "3\n",
      "c_update\n",
      "3.14\n",
      "c_update\n",
      "3\n",
      "c_update\n",
      "3.14\n",
      "3.14\n",
      "3\n",
      "c_update\n",
      "3.14\n"
     ]
    }
   ],
   "source": [
    "cur = con.cursor()\n",
    "for row in cur.execute('SELECT * FROM person'):\n",
    "    print(row)\n",
    "    for collum in row:\n",
    "        print(collum)\n",
    "        for column in row:\n",
    "            print(column)"
   ]
  },
  {
   "cell_type": "code",
   "execution_count": 4,
   "metadata": {},
   "outputs": [
    {
     "data": {
      "text/plain": [
       "<sqlite3.Cursor at 0x7f9e704ae420>"
      ]
     },
     "execution_count": 4,
     "metadata": {},
     "output_type": "execute_result"
    }
   ],
   "source": [
    "insert_sql = 'INSERT INTO person VALUES(?,?,?)'\n",
    "insert_param = (100,'name_z',99.9)\n",
    "cur.execute(insert_sql,insert_param)"
   ]
  },
  {
   "cell_type": "code",
   "execution_count": 5,
   "metadata": {},
   "outputs": [],
   "source": [
    "con.commit()"
   ]
  },
  {
   "cell_type": "code",
   "execution_count": 7,
   "metadata": {},
   "outputs": [
    {
     "name": "stdout",
     "output_type": "stream",
     "text": [
      "[(1, 'name_a', 10.5), (3, 'c_update', 3.14), (100, 'name_z', 99.9)]\n"
     ]
    }
   ],
   "source": [
    "cur.execute('SELECT * FROM person')\n",
    "print(cur.fetchall())"
   ]
  }
 ],
 "metadata": {
  "interpreter": {
   "hash": "50f924bc883a09db1276cb08c605c91ac67fdd49531ef706b81b28bb3d8c9cb0"
  },
  "kernelspec": {
   "display_name": "Python 3.8.10 ('venv': venv)",
   "language": "python",
   "name": "python3"
  },
  "language_info": {
   "codemirror_mode": {
    "name": "ipython",
    "version": 3
   },
   "file_extension": ".py",
   "mimetype": "text/x-python",
   "name": "python",
   "nbconvert_exporter": "python",
   "pygments_lexer": "ipython3",
   "version": "3.8.10"
  },
  "orig_nbformat": 4
 },
 "nbformat": 4,
 "nbformat_minor": 2
}
