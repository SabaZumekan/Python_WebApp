{
 "cells": [
  {
   "cell_type": "code",
   "execution_count": 2,
   "metadata": {},
   "outputs": [],
   "source": [
    "import numpy as np"
   ]
  },
  {
   "cell_type": "code",
   "execution_count": 3,
   "metadata": {},
   "outputs": [],
   "source": [
    "def param_func():\n",
    "    print('引数関数の中')"
   ]
  },
  {
   "cell_type": "code",
   "execution_count": 4,
   "metadata": {},
   "outputs": [],
   "source": [
    "def body_func(param_func):\n",
    "    param_func()"
   ]
  },
  {
   "cell_type": "code",
   "execution_count": 5,
   "metadata": {},
   "outputs": [
    {
     "name": "stdout",
     "output_type": "stream",
     "text": [
      "引数関数の中\n"
     ]
    }
   ],
   "source": [
    "body_func(param_func)"
   ]
  },
  {
   "cell_type": "code",
   "execution_count": 6,
   "metadata": {},
   "outputs": [],
   "source": [
    "def body_func():\n",
    "    def return_func():\n",
    "        print('戻り値関数の中')\n",
    "    return return_func"
   ]
  },
  {
   "cell_type": "code",
   "execution_count": 7,
   "metadata": {},
   "outputs": [],
   "source": [
    "return_func = body_func()"
   ]
  },
  {
   "cell_type": "code",
   "execution_count": 8,
   "metadata": {},
   "outputs": [
    {
     "name": "stdout",
     "output_type": "stream",
     "text": [
      "戻り値関数の中\n"
     ]
    }
   ],
   "source": [
    "return_func()"
   ]
  },
  {
   "cell_type": "code",
   "execution_count": 9,
   "metadata": {},
   "outputs": [],
   "source": [
    "def body_func(param_func):\n",
    "    def return_func():\n",
    "        param_func()\n",
    "    return return_func\n"
   ]
  },
  {
   "cell_type": "code",
   "execution_count": 10,
   "metadata": {},
   "outputs": [],
   "source": [
    "return_func = body_func(param_func)"
   ]
  },
  {
   "cell_type": "code",
   "execution_count": 11,
   "metadata": {},
   "outputs": [
    {
     "name": "stdout",
     "output_type": "stream",
     "text": [
      "引数関数の中\n"
     ]
    }
   ],
   "source": [
    "return_func()"
   ]
  },
  {
   "cell_type": "code",
   "execution_count": 12,
   "metadata": {},
   "outputs": [],
   "source": [
    "def body_func(param_func):\n",
    "    def return_func():\n",
    "        param_func()\n",
    "        print('引数関数実行後に文字列を出力')\n",
    "    return return_func\n"
   ]
  },
  {
   "cell_type": "code",
   "execution_count": 13,
   "metadata": {},
   "outputs": [],
   "source": [
    "return_func = body_func(param_func)\n"
   ]
  },
  {
   "cell_type": "code",
   "execution_count": 14,
   "metadata": {},
   "outputs": [
    {
     "name": "stdout",
     "output_type": "stream",
     "text": [
      "引数関数の中\n",
      "引数関数実行後に文字列を出力\n"
     ]
    }
   ],
   "source": [
    "return_func()"
   ]
  },
  {
   "cell_type": "code",
   "execution_count": 15,
   "metadata": {},
   "outputs": [
    {
     "name": "stdout",
     "output_type": "stream",
     "text": [
      "これはテスト関数です\n",
      "引数関数実行後に文字列を出力\n"
     ]
    }
   ],
   "source": [
    "@body_func\n",
    "def test_func():\n",
    "    print('これはテスト関数です')\n",
    "test_func()"
   ]
  },
  {
   "cell_type": "code",
   "execution_count": 22,
   "metadata": {},
   "outputs": [],
   "source": [
    "def body_func(param_func):\n",
    "    def return_func(tag):\n",
    "        param_func()\n",
    "        print(tag)\n",
    "        print('引数関数実行後に文字列を出力')\n",
    "    return return_func"
   ]
  },
  {
   "cell_type": "code",
   "execution_count": 30,
   "metadata": {},
   "outputs": [
    {
     "ename": "TypeError",
     "evalue": "return_func() takes 0 positional arguments but 1 was given",
     "output_type": "error",
     "traceback": [
      "\u001b[0;31m---------------------------------------------------------------------------\u001b[0m",
      "\u001b[0;31mTypeError\u001b[0m                                 Traceback (most recent call last)",
      "\u001b[1;32m/home/cre/Python_WebApp/deco.ipynb Cell 16'\u001b[0m in \u001b[0;36m<cell line: 1>\u001b[0;34m()\u001b[0m\n\u001b[0;32m----> <a href='vscode-notebook-cell://wsl%2Bubuntu-20.04/home/cre/Python_WebApp/deco.ipynb#ch0000015vscode-remote?line=0'>1</a>\u001b[0m \u001b[39m@return_func\u001b[39m(\u001b[39m'\u001b[39;49m\u001b[39mあああ\u001b[39;49m\u001b[39m'\u001b[39;49m)\n\u001b[1;32m      <a href='vscode-notebook-cell://wsl%2Bubuntu-20.04/home/cre/Python_WebApp/deco.ipynb#ch0000015vscode-remote?line=1'>2</a>\u001b[0m \u001b[39mdef\u001b[39;00m \u001b[39mtest_func\u001b[39m():\n\u001b[1;32m      <a href='vscode-notebook-cell://wsl%2Bubuntu-20.04/home/cre/Python_WebApp/deco.ipynb#ch0000015vscode-remote?line=2'>3</a>\u001b[0m     \u001b[39mreturn\u001b[39;00m(\u001b[39m\"\u001b[39m\u001b[39m練習\u001b[39m\u001b[39m\"\u001b[39m)\n",
      "\u001b[0;31mTypeError\u001b[0m: return_func() takes 0 positional arguments but 1 was given"
     ]
    }
   ],
   "source": [
    "@return_func('あああ')\n",
    "def test_func():\n",
    "    return(\"練習\")\n"
   ]
  }
 ],
 "metadata": {
  "interpreter": {
   "hash": "50f924bc883a09db1276cb08c605c91ac67fdd49531ef706b81b28bb3d8c9cb0"
  },
  "kernelspec": {
   "display_name": "Python 3.8.10 ('venv': venv)",
   "language": "python",
   "name": "python3"
  },
  "language_info": {
   "codemirror_mode": {
    "name": "ipython",
    "version": 3
   },
   "file_extension": ".py",
   "mimetype": "text/x-python",
   "name": "python",
   "nbconvert_exporter": "python",
   "pygments_lexer": "ipython3",
   "version": "3.8.10"
  },
  "orig_nbformat": 4
 },
 "nbformat": 4,
 "nbformat_minor": 2
}
