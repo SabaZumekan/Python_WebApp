{
 "cells": [
  {
   "cell_type": "code",
   "execution_count": 2,
   "metadata": {},
   "outputs": [],
   "source": [
    "import sqlite3"
   ]
  },
  {
   "cell_type": "code",
   "execution_count": 3,
   "metadata": {},
   "outputs": [],
   "source": [
    "con = sqlite3.connect('./test_db')"
   ]
  },
  {
   "cell_type": "code",
   "execution_count": 4,
   "metadata": {},
   "outputs": [
    {
     "name": "stdout",
     "output_type": "stream",
     "text": [
      "(1, 'a_name', 10.5)\n",
      "1\n",
      "1\n",
      "a_name\n",
      "10.5\n",
      "a_name\n",
      "1\n",
      "a_name\n",
      "10.5\n",
      "10.5\n",
      "1\n",
      "a_name\n",
      "10.5\n",
      "(2, 'b_name', 8.5)\n",
      "2\n",
      "2\n",
      "b_name\n",
      "8.5\n",
      "b_name\n",
      "2\n",
      "b_name\n",
      "8.5\n",
      "8.5\n",
      "2\n",
      "b_name\n",
      "8.5\n",
      "(3, 'c_update', 3.14)\n",
      "3\n",
      "3\n",
      "c_update\n",
      "3.14\n",
      "c_update\n",
      "3\n",
      "c_update\n",
      "3.14\n",
      "3.14\n",
      "3\n",
      "c_update\n",
      "3.14\n",
      "(4, 'from_model', 2.236)\n",
      "4\n",
      "4\n",
      "from_model\n",
      "2.236\n",
      "from_model\n",
      "4\n",
      "from_model\n",
      "2.236\n",
      "2.236\n",
      "4\n",
      "from_model\n",
      "2.236\n"
     ]
    }
   ],
   "source": [
    "cur = con.cursor()\n",
    "for row in cur.execute('SELECT * FROM person'):\n",
    "    print(row)\n",
    "    for collum in row:\n",
    "        print(collum)\n",
    "        for column in row:\n",
    "            print(column)"
   ]
  },
  {
   "cell_type": "code",
   "execution_count": 8,
   "metadata": {},
   "outputs": [
    {
     "name": "stdout",
     "output_type": "stream",
     "text": [
      "[(1, 'a_name', 10.5, 1, 'a', 1.7, 70.0), (2, 'b_name', 8.5, 2, 'b', 1.8, 75.0), (3, 'c_update', 3.14, 3, 'c', 2.0, 80.0)]\n"
     ]
    }
   ],
   "source": [
    "cur.execute('SELECT * FROM person INNER JOIN human on person.id = human.id')\n",
    "print(cur.fetchall())"
   ]
  },
  {
   "cell_type": "code",
   "execution_count": 9,
   "metadata": {},
   "outputs": [
    {
     "name": "stdout",
     "output_type": "stream",
     "text": [
      "[(1, 'a_name', 10.5, 1, 'a', 1.7, 70.0), (2, 'b_name', 8.5, 2, 'b', 1.8, 75.0), (3, 'c_update', 3.14, 3, 'c', 2.0, 80.0), (4, 'from_model', 2.236, None, None, None, None)]\n"
     ]
    }
   ],
   "source": [
    "cur.execute('SELECT * FROM person LEFT JOIN human on person.id = human.id')\n",
    "print(cur.fetchall())"
   ]
  }
 ],
 "metadata": {
  "interpreter": {
   "hash": "50f924bc883a09db1276cb08c605c91ac67fdd49531ef706b81b28bb3d8c9cb0"
  },
  "kernelspec": {
   "display_name": "Python 3.8.10 ('venv': venv)",
   "language": "python",
   "name": "python3"
  },
  "language_info": {
   "codemirror_mode": {
    "name": "ipython",
    "version": 3
   },
   "file_extension": ".py",
   "mimetype": "text/x-python",
   "name": "python",
   "nbconvert_exporter": "python",
   "pygments_lexer": "ipython3",
   "version": "3.8.10"
  },
  "orig_nbformat": 4
 },
 "nbformat": 4,
 "nbformat_minor": 2
}
